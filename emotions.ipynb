{
  "nbformat": 4,
  "nbformat_minor": 0,
  "metadata": {
    "language_info": {
      "codemirror_mode": {
        "name": "ipython",
        "version": 3
      },
      "file_extension": ".py",
      "mimetype": "text/x-python",
      "name": "python",
      "nbconvert_exporter": "python",
      "pygments_lexer": "ipython3",
      "version": "3.7.6-final"
    },
    "orig_nbformat": 2,
    "kernelspec": {
      "name": "python3",
      "display_name": "Python 3"
    },
    "colab": {
      "name": "emotions.ipynb",
      "provenance": []
    }
  },
  "cells": [
    {
      "cell_type": "code",
      "metadata": {
        "id": "Fa3t2X0D8wez",
        "colab_type": "code",
        "colab": {}
      },
      "source": [
        "# https://docs.microsoft.com/en-us/azure/cognitive-services/face/quickstarts/client-libraries?pivots=programming-language-python&tabs=windows"
      ],
      "execution_count": 0,
      "outputs": []
    },
    {
      "cell_type": "markdown",
      "metadata": {
        "id": "57Qbf1pN4qkW",
        "colab_type": "text"
      },
      "source": [
        "face_client.face.detect_with_url(url, return_face_id=True, return_face_landmarks=False, return_face_attributes=None, recognition_model='recognition_01', return_recognition_model=False, detection_model='detection_01', custom_headers=None, raw=False, **operation_config)\n",
        "\n",
        "\n",
        "Detect human faces in an image, return face rectangles, and optionally with faceIds, landmarks, and attributes.<br />\n",
        "\n",
        "* No image will be stored. Only the extracted face feature will be  \n",
        "stored on server. The faceId is an identifier of the face feature and will be used in Face - Identify, Face - Verify, and Face - Find Similar. The stored face feature(s) will expire and be deleted 24 hours after the original detection call.\n",
        "\n",
        "* Optional parameters include faceId, landmarks, and attributes.  \n",
        "Attributes include age, gender, headPose, smile, facialHair, glasses, emotion, hair, makeup, occlusion, accessories, blur, exposure and noise. Some of the results returned for specific attributes may not be highly accurate.\n",
        "\n",
        "* JPEG, PNG, GIF (the first frame), and BMP format are supported. The  \n",
        "allowed image file size is from 1KB to 6MB.\n",
        "\n",
        "* Up to 100 faces can be returned for an image. Faces are ranked by  \n",
        "face rectangle size from large to small.\n",
        "\n",
        "* For optimal results when querying [Face -  \n",
        "Identify](/docs/services/563879b61984550e40cbbe8d/operations/563879b61984550f30395239), Face - Verify, and Face - Find Similar ('returnFaceId' is true), please use faces that are: frontal, clear, and with a minimum size of 200x200 pixels (100 pixels between eyes).\n",
        "\n",
        "* The minimum detectable face size is 36x36 pixels in an image no  \n",
        "larger than 1920x1080 pixels. Images with dimensions higher than\n",
        "\n",
        "1920x1080 pixels will need a proportionally larger minimum face size.  \n",
        "* Different 'detectionModel' values can be provided. To use and compare  \n",
        "different detection models, please refer to How to specify a detection model | Model | Recommended use-case(s) | | ---------- | -------- | | 'detection_01': | The default detection model for Face - Detect. Recommend for near frontal face detection. For scenarios with exceptionally large angle (head-pose) faces, occluded faces or wrong image orientation, the faces in such cases may not be detected. | | 'detection_02': | Detection model released in 2019 May with improved accuracy especially on small, side and blurry faces. |\n",
        "\n",
        "* Different 'recognitionModel' values are provided. If follow-up  \n",
        "operations like Verify, Identify, Find Similar are needed, please specify the recognition model with 'recognitionModel' parameter. The default value for 'recognitionModel' is 'recognition_01', if latest model needed, please explicitly specify the model you need in this parameter. Once specified, the detected faceIds will be associated with the specified recognition model. More details, please refer to How to specify a recognition model | Model | Recommended use-case(s) | | ---------- | -------- | | 'recognition_01': | The default recognition model for Face - Detect. All those faceIds created before 2019 March are bonded with this recognition model. | | 'recognition_02': | Recognition model released in 2019 March. 'recognition_02' is recommended since its overall accuracy is improved compared with 'recognition_01'. |.\n",
        "\n",
        ":param url: Publicly reachable URL of an image :type url: str :param return_face_id: A value indicating whether the operation should\n",
        "\n",
        " return faceIds of detected faces.  \n",
        ":type return_face_id: bool :param return_face_landmarks: A value indicating whether the operation\n",
        "\n",
        " should return landmarks of the detected faces.  \n",
        ":type return_face_landmarks: bool :param return_face_attributes: Analyze and return the one or more\n",
        "\n",
        " specified face attributes in the comma-separated string like  \n",
        " \"returnFaceAttributes=age,gender\". Supported face attributes include  \n",
        " age, gender, headPose, smile, facialHair, glasses and emotion. Note  \n",
        " that each face attribute analysis has additional computational and  \n",
        " time cost.  \n",
        ":type return_face_attributes: list[str or\n",
        "\n",
        " ~azure.cognitiveservices.vision.face.models.FaceAttributeType]  \n",
        ":param recognition_model: Name of recognition model. Recognition model\n",
        "\n",
        " is used when the face features are extracted and associated with  \n",
        " detected faceIds, (Large)FaceList or (Large)PersonGroup. A recognition  \n",
        " model name can be provided when performing Face - Detect or  \n",
        " (Large)FaceList - Create or (Large)PersonGroup - Create. The default  \n",
        " value is 'recognition_01', if latest model needed, please explicitly  \n",
        " specify the model you need. Possible values include: 'recognition_01',  \n",
        " 'recognition_02'  \n",
        ":type recognition_model: str or\n",
        "\n",
        " ~azure.cognitiveservices.vision.face.models.RecognitionModel  \n",
        ":param return_recognition_model: A value indicating whether the\n",
        "\n",
        " operation should return 'recognitionModel' in response.  \n",
        ":type return_recognition_model: bool :param detection_model: Name of detection model. Detection model is\n",
        "\n",
        " used to detect faces in the submitted image. A detection model name  \n",
        " can be provided when performing Face - Detect or (Large)FaceList - Add  \n",
        " Face or (Large)PersonGroup - Add Face. The default value is  \n",
        " 'detection_01', if another model is needed, please explicitly specify  \n",
        " it. Possible values include: 'detection_01', 'detection_02'  \n",
        ":type detection_model: str or\n",
        "\n",
        " ~azure.cognitiveservices.vision.face.models.DetectionModel  \n",
        ":param dict custom_headers: headers that will be added to the request :param bool raw: returns the direct response alongside the\n",
        "\n",
        " deserialized response  \n",
        ":param operation_config: :ref:`Operation configuration\n",
        "\n",
        " overrides msrest:optionsforoperations `.  \n",
        ":return: list or ClientRawResponse if raw=true :rtype: list[~azure.cognitiveservices.vision.face.models.DetectedFace]\n",
        "\n",
        " or ~msrest.pipeline.ClientRawResponse  \n",
        ":raises:\n",
        "\n",
        " :class:`APIErrorException azure.cognitiveservices.vision.face.models.APIErrorException `  \n"
      ]
    },
    {
      "cell_type": "code",
      "metadata": {
        "id": "iekZDzGH8we5",
        "colab_type": "code",
        "colab": {
          "base_uri": "https://localhost:8080/",
          "height": 390
        },
        "outputId": "88e88d0e-8d9a-4e09-e1d6-6c2ace4c390d"
      },
      "source": [
        "# download if necessary\n",
        "# !pip install cognitive_face\n",
        "!pip install azure.cognitiveservices.vision.face\n",
        "\n",
        "# install libraries\n",
        "import asyncio\n",
        "import io\n",
        "import glob\n",
        "import os\n",
        "import sys\n",
        "import time\n",
        "import uuid\n",
        "import requests\n",
        "from urllib.parse import urlparse\n",
        "from io import BytesIO\n",
        "from PIL import Image, ImageDraw\n",
        "from azure.cognitiveservices.vision.face import FaceClient\n",
        "from msrest.authentication import CognitiveServicesCredentials\n",
        "from azure.cognitiveservices.vision.face.models import TrainingStatusType, Person, SnapshotObjectType, OperationStatusType"
      ],
      "execution_count": 1,
      "outputs": [
        {
          "output_type": "stream",
          "text": [
            "Collecting azure.cognitiveservices.vision.face\n",
            "\u001b[?25l  Downloading https://files.pythonhosted.org/packages/a2/5b/f3ce7bcdc546dccaa64227c67f04391bef3262ed9b319c2e1d01131a1105/azure_cognitiveservices_vision_face-0.4.0-py2.py3-none-any.whl (67kB)\n",
            "\u001b[K     |████████████████████████████████| 71kB 4.6MB/s \n",
            "\u001b[?25hCollecting msrest>=0.5.0\n",
            "\u001b[?25l  Downloading https://files.pythonhosted.org/packages/48/93/f610aa37a56a8bf5085c55483b34dacc13b5f23476736d6d18f3b4f9d45b/msrest-0.6.14-py2.py3-none-any.whl (84kB)\n",
            "\u001b[K     |████████████████████████████████| 92kB 7.1MB/s \n",
            "\u001b[?25hCollecting azure-common~=1.1\n",
            "  Downloading https://files.pythonhosted.org/packages/e5/4d/d000fc3c5af601d00d55750b71da5c231fcb128f42ac95b208ed1091c2c1/azure_common-1.1.25-py2.py3-none-any.whl\n",
            "Requirement already satisfied: requests~=2.16 in /usr/local/lib/python3.6/dist-packages (from msrest>=0.5.0->azure.cognitiveservices.vision.face) (2.23.0)\n",
            "Requirement already satisfied: certifi>=2017.4.17 in /usr/local/lib/python3.6/dist-packages (from msrest>=0.5.0->azure.cognitiveservices.vision.face) (2020.4.5.1)\n",
            "Requirement already satisfied: requests-oauthlib>=0.5.0 in /usr/local/lib/python3.6/dist-packages (from msrest>=0.5.0->azure.cognitiveservices.vision.face) (1.3.0)\n",
            "Collecting isodate>=0.6.0\n",
            "\u001b[?25l  Downloading https://files.pythonhosted.org/packages/9b/9f/b36f7774ff5ea8e428fdcfc4bb332c39ee5b9362ddd3d40d9516a55221b2/isodate-0.6.0-py2.py3-none-any.whl (45kB)\n",
            "\u001b[K     |████████████████████████████████| 51kB 6.4MB/s \n",
            "\u001b[?25hRequirement already satisfied: chardet<4,>=3.0.2 in /usr/local/lib/python3.6/dist-packages (from requests~=2.16->msrest>=0.5.0->azure.cognitiveservices.vision.face) (3.0.4)\n",
            "Requirement already satisfied: idna<3,>=2.5 in /usr/local/lib/python3.6/dist-packages (from requests~=2.16->msrest>=0.5.0->azure.cognitiveservices.vision.face) (2.9)\n",
            "Requirement already satisfied: urllib3!=1.25.0,!=1.25.1,<1.26,>=1.21.1 in /usr/local/lib/python3.6/dist-packages (from requests~=2.16->msrest>=0.5.0->azure.cognitiveservices.vision.face) (1.24.3)\n",
            "Requirement already satisfied: oauthlib>=3.0.0 in /usr/local/lib/python3.6/dist-packages (from requests-oauthlib>=0.5.0->msrest>=0.5.0->azure.cognitiveservices.vision.face) (3.1.0)\n",
            "Requirement already satisfied: six in /usr/local/lib/python3.6/dist-packages (from isodate>=0.6.0->msrest>=0.5.0->azure.cognitiveservices.vision.face) (1.12.0)\n",
            "Installing collected packages: isodate, msrest, azure-common, azure.cognitiveservices.vision.face\n",
            "Successfully installed azure-common-1.1.25 azure.cognitiveservices.vision.face isodate-0.6.0 msrest-0.6.14\n"
          ],
          "name": "stdout"
        }
      ]
    },
    {
      "cell_type": "code",
      "metadata": {
        "id": "FM7Hq5gc8we-",
        "colab_type": "code",
        "colab": {
          "base_uri": "https://localhost:8080/",
          "height": 363
        },
        "outputId": "260ace22-d47c-418c-d410-ab11604e7f96"
      },
      "source": [
        "\n",
        "KEY = 'b9105d86ed104c53bf7e34cfc3d64cce'\n",
        "\n",
        "ENDPOINT = 'https://mtface.cognitiveservices.azure.com/'\n",
        "\n",
        "# Set the FACE_SUBSCRIPTION_KEY environment variable with your key as the value.\n",
        "# This key will serve all examples in this document.\n",
        "# KEY = os.environ['FACE_SUBSCRIPTION_KEY']\n",
        "\n",
        "# Set the FACE_ENDPOINT environment variable with the endpoint from your Face service in Azure.\n",
        "# This endpoint will be used in all examples in this quickstart.\n",
        "# ENDPOINT = os.environ['FACE_ENDPOINT']"
      ],
      "execution_count": 23,
      "outputs": [
        {
          "output_type": "error",
          "ename": "KeyError",
          "evalue": "ignored",
          "traceback": [
            "\u001b[0;31m---------------------------------------------------------------------------\u001b[0m",
            "\u001b[0;31mKeyError\u001b[0m                                  Traceback (most recent call last)",
            "\u001b[0;32m<ipython-input-23-166b7015e85e>\u001b[0m in \u001b[0;36m<module>\u001b[0;34m()\u001b[0m\n\u001b[1;32m      6\u001b[0m \u001b[0;31m# Set the FACE_SUBSCRIPTION_KEY environment variable with your key as the value.\u001b[0m\u001b[0;34m\u001b[0m\u001b[0;34m\u001b[0m\u001b[0;34m\u001b[0m\u001b[0m\n\u001b[1;32m      7\u001b[0m \u001b[0;31m# This key will serve all examples in this document.\u001b[0m\u001b[0;34m\u001b[0m\u001b[0;34m\u001b[0m\u001b[0;34m\u001b[0m\u001b[0m\n\u001b[0;32m----> 8\u001b[0;31m \u001b[0mKEY\u001b[0m \u001b[0;34m=\u001b[0m \u001b[0mos\u001b[0m\u001b[0;34m.\u001b[0m\u001b[0menviron\u001b[0m\u001b[0;34m[\u001b[0m\u001b[0;34m'FACE_SUBSCRIPTION_KEY'\u001b[0m\u001b[0;34m]\u001b[0m\u001b[0;34m\u001b[0m\u001b[0;34m\u001b[0m\u001b[0m\n\u001b[0m\u001b[1;32m      9\u001b[0m \u001b[0;34m\u001b[0m\u001b[0m\n\u001b[1;32m     10\u001b[0m \u001b[0;31m# Set the FACE_ENDPOINT environment variable with the endpoint from your Face service in Azure.\u001b[0m\u001b[0;34m\u001b[0m\u001b[0;34m\u001b[0m\u001b[0;34m\u001b[0m\u001b[0m\n",
            "\u001b[0;32m/usr/lib/python3.6/os.py\u001b[0m in \u001b[0;36m__getitem__\u001b[0;34m(self, key)\u001b[0m\n\u001b[1;32m    667\u001b[0m         \u001b[0;32mexcept\u001b[0m \u001b[0mKeyError\u001b[0m\u001b[0;34m:\u001b[0m\u001b[0;34m\u001b[0m\u001b[0;34m\u001b[0m\u001b[0m\n\u001b[1;32m    668\u001b[0m             \u001b[0;31m# raise KeyError with the original key value\u001b[0m\u001b[0;34m\u001b[0m\u001b[0;34m\u001b[0m\u001b[0;34m\u001b[0m\u001b[0m\n\u001b[0;32m--> 669\u001b[0;31m             \u001b[0;32mraise\u001b[0m \u001b[0mKeyError\u001b[0m\u001b[0;34m(\u001b[0m\u001b[0mkey\u001b[0m\u001b[0;34m)\u001b[0m \u001b[0;32mfrom\u001b[0m \u001b[0;32mNone\u001b[0m\u001b[0;34m\u001b[0m\u001b[0;34m\u001b[0m\u001b[0m\n\u001b[0m\u001b[1;32m    670\u001b[0m         \u001b[0;32mreturn\u001b[0m \u001b[0mself\u001b[0m\u001b[0;34m.\u001b[0m\u001b[0mdecodevalue\u001b[0m\u001b[0;34m(\u001b[0m\u001b[0mvalue\u001b[0m\u001b[0;34m)\u001b[0m\u001b[0;34m\u001b[0m\u001b[0;34m\u001b[0m\u001b[0m\n\u001b[1;32m    671\u001b[0m \u001b[0;34m\u001b[0m\u001b[0m\n",
            "\u001b[0;31mKeyError\u001b[0m: 'FACE_SUBSCRIPTION_KEY'"
          ]
        }
      ]
    },
    {
      "cell_type": "markdown",
      "metadata": {
        "id": "J5c3i0ZNz92p",
        "colab_type": "text"
      },
      "source": [
        "### Helpful Documentation\n",
        "\n",
        "* `Packages, models, operations, version, Classes (FaceClient, FaceClientConfiguration)` - https://docs.microsoft.com/en-us/python/api/azure-cognitiveservices-vision-face/azure.cognitiveservices.vision.face?view=azure-python\n",
        "*"
      ]
    },
    {
      "cell_type": "code",
      "metadata": {
        "id": "m1gCFW538wfC",
        "colab_type": "code",
        "colab": {}
      },
      "source": [
        "# Create an authenticated FaceClient.\n",
        "face_client = FaceClient(ENDPOINT, CognitiveServicesCredentials(KEY))"
      ],
      "execution_count": 0,
      "outputs": []
    },
    {
      "cell_type": "markdown",
      "metadata": {
        "id": "4d-bkqal3JSL",
        "colab_type": "text"
      },
      "source": [
        "## Detect faces in an image\n",
        "The following code detects a face in a remote image. It prints the detected face's ID to the console and also stores it in program memory. Then, it detects the faces in an image with multiple people and prints their IDs to the console as well. By changing the parameters in the detect_with_url method, you can return different information with each DetectedFace object.\n",
        "\n",
        "See the sample code on GitHub for more detection scenarios.\n",
        "\n",
        "https://github.com/Azure-Samples/cognitive-services-quickstart-code/blob/master/python/Face/FaceQuickstart.py"
      ]
    },
    {
      "cell_type": "code",
      "metadata": {
        "id": "l858JsqO2bbQ",
        "colab_type": "code",
        "colab": {
          "base_uri": "https://localhost:8080/",
          "height": 70
        },
        "outputId": "65f4e85d-40b8-4ddc-ef4a-a5f8e78382bb"
      },
      "source": [
        "# Detect a face in an image that contains a single face\n",
        "single_face_image_url = 'https://www.biography.com/.image/t_share/MTQ1MzAyNzYzOTgxNTE0NTEz/john-f-kennedy---mini-biography.jpg'\n",
        "single_image_name = os.path.basename(single_face_image_url)\n",
        "detected_faces = face_client.face.detect_with_url(url=single_face_image_url)\n",
        "if not detected_faces:\n",
        "    raise Exception('No face detected from image {}'.format(single_image_name))\n",
        "\n",
        "# Display the detected face ID in the first single-face image.\n",
        "# Face IDs are used for comparison to faces (their IDs) detected in other images.\n",
        "print('Detected face ID from', single_image_name, ':')\n",
        "for face in detected_faces: print (face.face_id)\n",
        "print()\n",
        "\n",
        "# Save this ID for use in Find Similar\n",
        "first_image_face_ID = detected_faces[0].face_id"
      ],
      "execution_count": 4,
      "outputs": [
        {
          "output_type": "stream",
          "text": [
            "Detected face ID from john-f-kennedy---mini-biography.jpg :\n",
            "1517cb77-12c1-4fc6-bd55-7e8db79816ee\n",
            "\n"
          ],
          "name": "stdout"
        }
      ]
    },
    {
      "cell_type": "markdown",
      "metadata": {
        "id": "u52RoqCo2wsU",
        "colab_type": "text"
      },
      "source": [
        "## Display and frame faces\n",
        "The following code outputs the given image to the display and draws rectangles around the faces, using the DetectedFace.faceRectangle property."
      ]
    },
    {
      "cell_type": "code",
      "metadata": {
        "id": "mahBFvZU3hkM",
        "colab_type": "code",
        "colab": {
          "base_uri": "https://localhost:8080/",
          "height": 34
        },
        "outputId": "9a1926a3-7553-4b19-f964-8c978c85598b"
      },
      "source": [
        "# Detect a face in an image that contains a single face\n",
        "single_face_image_url = 'https://raw.githubusercontent.com/Microsoft/Cognitive-Face-Windows/master/Data/detection1.jpg'\n",
        "single_image_name = os.path.basename(single_face_image_url)\n",
        "detected_faces = face_client.face.detect_with_url(url=single_face_image_url)\n",
        "if not detected_faces:\n",
        "    raise Exception('No face detected from image {}'.format(single_image_name))\n",
        "\n",
        "# Convert width height to a point in a rectangle\n",
        "def getRectangle(faceDictionary):\n",
        "    rect = faceDictionary.face_rectangle\n",
        "    left = rect.left\n",
        "    top = rect.top\n",
        "    right = left + rect.width\n",
        "    bottom = top + rect.height\n",
        "    \n",
        "    return ((left, top), (right, bottom))\n",
        "\n",
        "\n",
        "# Download the image from the url\n",
        "response = requests.get(single_face_image_url)\n",
        "img = Image.open(BytesIO(response.content))\n",
        "\n",
        "# For each face returned use the face rectangle and draw a red box.\n",
        "print('Drawing rectangle around face... see popup for results.')\n",
        "draw = ImageDraw.Draw(img)\n",
        "for face in detected_faces:\n",
        "    draw.rectangle(getRectangle(face), outline='red')\n",
        "\n",
        "# Display the image in the users default image browser.\n",
        "img.show()"
      ],
      "execution_count": 8,
      "outputs": [
        {
          "output_type": "stream",
          "text": [
            "Drawing rectangle around face... see popup for results.\n"
          ],
          "name": "stdout"
        }
      ]
    },
    {
      "cell_type": "code",
      "metadata": {
        "id": "SmBPujio4SXm",
        "colab_type": "code",
        "colab": {}
      },
      "source": [
        "# face_client.face.detect_with_url()\n",
        "\n",
        "test = face_client.face.detect_with_url(url=single_face_image_url, return_face_id=True, return_face_landmarks=True, return_face_attributes=['age', 'gender', 'headPose', 'smile', 'facialHair', 'glasses', 'emotion', 'hair', 'makeup', 'occlusion', 'accessories', 'blur', 'exposure', 'noise'], recognition_model='recognition_01', return_recognition_model=True, detection_model='detection_01', custom_headers=None, raw=False)"
      ],
      "execution_count": 0,
      "outputs": []
    },
    {
      "cell_type": "code",
      "metadata": {
        "id": "q_zPzXKB6tv4",
        "colab_type": "code",
        "colab": {
          "base_uri": "https://localhost:8080/",
          "height": 34
        },
        "outputId": "7f3971dc-324c-4d7b-ee35-b58eba853689"
      },
      "source": [
        "# face_client.face.models.Emotion()\n",
        "for face in test:\n",
        "  print(face.face_attributes.emotion)"
      ],
      "execution_count": 22,
      "outputs": [
        {
          "output_type": "stream",
          "text": [
            "{'additional_properties': {}, 'anger': 0.0, 'contempt': 0.0, 'disgust': 0.0, 'fear': 0.0, 'happiness': 1.0, 'neutral': 0.0, 'sadness': 0.0, 'surprise': 0.0}\n"
          ],
          "name": "stdout"
        }
      ]
    }
  ]
}