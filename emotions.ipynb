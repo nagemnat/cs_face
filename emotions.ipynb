{
  "nbformat": 4,
  "nbformat_minor": 0,
  "metadata": {
    "language_info": {
      "codemirror_mode": {
        "name": "ipython",
        "version": 3
      },
      "file_extension": ".py",
      "mimetype": "text/x-python",
      "name": "python",
      "nbconvert_exporter": "python",
      "pygments_lexer": "ipython3",
      "version": "3.7.6-final"
    },
    "orig_nbformat": 2,
    "kernelspec": {
      "name": "python3",
      "display_name": "Python 3"
    },
    "colab": {
      "name": "emotions.ipynb",
      "provenance": []
    }
  },
  "cells": [
    {
      "cell_type": "code",
      "metadata": {
        "id": "Fa3t2X0D8wez",
        "colab_type": "code",
        "colab": {}
      },
      "source": [
        "# https://docs.microsoft.com/en-us/azure/cognitive-services/face/quickstarts/client-libraries?pivots=programming-language-python&tabs=windows"
      ],
      "execution_count": 0,
      "outputs": []
    },
    {
      "cell_type": "code",
      "metadata": {
        "id": "iekZDzGH8we5",
        "colab_type": "code",
        "colab": {
          "base_uri": "https://localhost:8080/",
          "height": 382
        },
        "outputId": "82a936e5-c671-4011-c60e-f40893a8bfe8"
      },
      "source": [
        "# download if necessary\n",
        "# !pip install cognitive_face\n",
        "!pip install azure.cognitiveservices.vision.face\n",
        "\n",
        "# install libraries\n",
        "import asyncio\n",
        "import io\n",
        "import glob\n",
        "import os\n",
        "import sys\n",
        "import time\n",
        "import uuid\n",
        "import requests\n",
        "from urllib.parse import urlparse\n",
        "from io import BytesIO\n",
        "from PIL import Image, ImageDraw\n",
        "from azure.cognitiveservices.vision.face import FaceClient\n",
        "from msrest.authentication import CognitiveServicesCredentials\n",
        "from azure.cognitiveservices.vision.face.models import TrainingStatusType, Person, SnapshotObjectType, OperationStatusType"
      ],
      "execution_count": 1,
      "outputs": [
        {
          "output_type": "stream",
          "text": [
            "Collecting azure.cognitiveservices.vision.face\n",
            "\u001b[?25l  Downloading https://files.pythonhosted.org/packages/a2/5b/f3ce7bcdc546dccaa64227c67f04391bef3262ed9b319c2e1d01131a1105/azure_cognitiveservices_vision_face-0.4.0-py2.py3-none-any.whl (67kB)\n",
            "\u001b[K     |████████████████████████████████| 71kB 4.6MB/s \n",
            "\u001b[?25hCollecting azure-common~=1.1\n",
            "  Downloading https://files.pythonhosted.org/packages/e5/4d/d000fc3c5af601d00d55750b71da5c231fcb128f42ac95b208ed1091c2c1/azure_common-1.1.25-py2.py3-none-any.whl\n",
            "Collecting msrest>=0.5.0\n",
            "\u001b[?25l  Downloading https://files.pythonhosted.org/packages/48/93/f610aa37a56a8bf5085c55483b34dacc13b5f23476736d6d18f3b4f9d45b/msrest-0.6.14-py2.py3-none-any.whl (84kB)\n",
            "\u001b[K     |████████████████████████████████| 92kB 7.2MB/s \n",
            "\u001b[?25hRequirement already satisfied: requests~=2.16 in /usr/local/lib/python3.6/dist-packages (from msrest>=0.5.0->azure.cognitiveservices.vision.face) (2.23.0)\n",
            "Collecting isodate>=0.6.0\n",
            "\u001b[?25l  Downloading https://files.pythonhosted.org/packages/9b/9f/b36f7774ff5ea8e428fdcfc4bb332c39ee5b9362ddd3d40d9516a55221b2/isodate-0.6.0-py2.py3-none-any.whl (45kB)\n",
            "\u001b[K     |████████████████████████████████| 51kB 6.5MB/s \n",
            "\u001b[?25hRequirement already satisfied: requests-oauthlib>=0.5.0 in /usr/local/lib/python3.6/dist-packages (from msrest>=0.5.0->azure.cognitiveservices.vision.face) (1.3.0)\n",
            "Requirement already satisfied: certifi>=2017.4.17 in /usr/local/lib/python3.6/dist-packages (from msrest>=0.5.0->azure.cognitiveservices.vision.face) (2020.4.5.1)\n",
            "Requirement already satisfied: urllib3!=1.25.0,!=1.25.1,<1.26,>=1.21.1 in /usr/local/lib/python3.6/dist-packages (from requests~=2.16->msrest>=0.5.0->azure.cognitiveservices.vision.face) (1.24.3)\n",
            "Requirement already satisfied: idna<3,>=2.5 in /usr/local/lib/python3.6/dist-packages (from requests~=2.16->msrest>=0.5.0->azure.cognitiveservices.vision.face) (2.9)\n",
            "Requirement already satisfied: chardet<4,>=3.0.2 in /usr/local/lib/python3.6/dist-packages (from requests~=2.16->msrest>=0.5.0->azure.cognitiveservices.vision.face) (3.0.4)\n",
            "Requirement already satisfied: six in /usr/local/lib/python3.6/dist-packages (from isodate>=0.6.0->msrest>=0.5.0->azure.cognitiveservices.vision.face) (1.12.0)\n",
            "Requirement already satisfied: oauthlib>=3.0.0 in /usr/local/lib/python3.6/dist-packages (from requests-oauthlib>=0.5.0->msrest>=0.5.0->azure.cognitiveservices.vision.face) (3.1.0)\n",
            "Installing collected packages: azure-common, isodate, msrest, azure.cognitiveservices.vision.face\n",
            "Successfully installed azure-common-1.1.25 azure.cognitiveservices.vision.face isodate-0.6.0 msrest-0.6.14\n"
          ],
          "name": "stdout"
        }
      ]
    },
    {
      "cell_type": "code",
      "metadata": {
        "id": "FM7Hq5gc8we-",
        "colab_type": "code",
        "colab": {}
      },
      "source": [
        "# Set the FACE_SUBSCRIPTION_KEY environment variable with your key as the value.\n",
        "# This key will serve all examples in this document.\n",
        "# KEY = os.environ['b9105d86ed104c53bf7e34cfc3d64cce']\n",
        "KEY = 'b9105d86ed104c53bf7e34cfc3d64cce'\n",
        "# Set the FACE_ENDPOINT environment variable with the endpoint from your Face service in Azure.\n",
        "# This endpoint will be used in all examples in this quickstart.\n",
        "# ENDPOINT = os.environ['https://mtface.cognitiveservices.azure.com/']\n",
        "ENDPOINT = 'https://mtface.cognitiveservices.azure.com/'"
      ],
      "execution_count": 0,
      "outputs": []
    },
    {
      "cell_type": "code",
      "metadata": {
        "id": "m1gCFW538wfC",
        "colab_type": "code",
        "colab": {}
      },
      "source": [
        ""
      ],
      "execution_count": 0,
      "outputs": []
    }
  ]
}