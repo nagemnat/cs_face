{
 "cells": [
  {
   "cell_type": "code",
   "execution_count": null,
   "metadata": {},
   "outputs": [],
   "source": []
  },
  {
   "cell_type": "code",
   "execution_count": 3,
   "metadata": {},
   "outputs": [
    {
     "output_type": "stream",
     "name": "stdout",
     "text": "Collecting azure.cognitiveservices.vision.face\n  Downloading azure_cognitiveservices_vision_face-0.4.0-py2.py3-none-any.whl (67 kB)\nRequirement already satisfied: msrest>=0.5.0 in c:\\users\\nagem\\anaconda3\\lib\\site-packages (from azure.cognitiveservices.vision.face) (0.6.13)\nRequirement already satisfied: azure-common~=1.1 in c:\\users\\nagem\\anaconda3\\lib\\site-packages (from azure.cognitiveservices.vision.face) (1.1.25)\nRequirement already satisfied: isodate>=0.6.0 in c:\\users\\nagem\\anaconda3\\lib\\site-packages (from msrest>=0.5.0->azure.cognitiveservices.vision.face) (0.6.0)\nRequirement already satisfied: requests~=2.16 in c:\\users\\nagem\\anaconda3\\lib\\site-packages (from msrest>=0.5.0->azure.cognitiveservices.vision.face) (2.23.0)\nRequirement already satisfied: certifi>=2017.4.17 in c:\\users\\nagem\\anaconda3\\lib\\site-packages (from msrest>=0.5.0->azure.cognitiveservices.vision.face) (2020.4.5.1)\nRequirement already satisfied: requests-oauthlib>=0.5.0 in c:\\users\\nagem\\anaconda3\\lib\\site-packages (from msrest>=0.5.0->azure.cognitiveservices.vision.face) (1.3.0)\nRequirement already satisfied: six in c:\\users\\nagem\\appdata\\roaming\\python\\python37\\site-packages (from isodate>=0.6.0->msrest>=0.5.0->azure.cognitiveservices.vision.face) (1.14.0)\nRequirement already satisfied: chardet<4,>=3.0.2 in c:\\users\\nagem\\anaconda3\\lib\\site-packages (from requests~=2.16->msrest>=0.5.0->azure.cognitiveservices.vision.face) (3.0.4)\nRequirement already satisfied: urllib3!=1.25.0,!=1.25.1,<1.26,>=1.21.1 in c:\\users\\nagem\\anaconda3\\lib\\site-packages (from requests~=2.16->msrest>=0.5.0->azure.cognitiveservices.vision.face) (1.25.7)\nRequirement already satisfied: idna<3,>=2.5 in c:\\users\\nagem\\anaconda3\\lib\\site-packages (from requests~=2.16->msrest>=0.5.0->azure.cognitiveservices.vision.face) (2.9)\nRequirement already satisfied: oauthlib>=3.0.0 in c:\\users\\nagem\\anaconda3\\lib\\site-packages (from requests-oauthlib>=0.5.0->msrest>=0.5.0->azure.cognitiveservices.vision.face) (3.1.0)\nInstalling collected packages: azure.cognitiveservices.vision.face\nSuccessfully installed azure.cognitiveservices.vision.face\n"
    }
   ],
   "source": [
    "# download if necessary\n",
    "# !pip install cognitive_face\n",
    "# !pip install azure.cognitiveservices.vision.face\n",
    "\n",
    "# install libraries\n",
    "import asyncio\n",
    "import io\n",
    "import glob\n",
    "import os\n",
    "import sys\n",
    "import time\n",
    "import uuid\n",
    "import requests\n",
    "from urllib.parse import urlparse\n",
    "from io import BytesIO\n",
    "from PIL import Image, ImageDraw\n",
    "from azure.cognitiveservices.vision.face import FaceClient\n",
    "from msrest.authentication import CognitiveServicesCredentials\n",
    "from azure.cognitiveservices.vision.face.models import TrainingStatusType, Person, SnapshotObjectType, OperationStatusType"
   ]
  },
  {
   "cell_type": "code",
   "execution_count": 7,
   "metadata": {},
   "outputs": [],
   "source": [
    "# Set the FACE_SUBSCRIPTION_KEY environment variable with your key as the value.\n",
    "# This key will serve all examples in this document.\n",
    "KEY = os.environ['FACE_SUBSCRIPTION_KEY']\n",
    "\n",
    "# Set the FACE_ENDPOINT environment variable with the endpoint from your Face service in Azure.\n",
    "# This endpoint will be used in all examples in this quickstart.\n",
    "ENDPOINT = os.environ['FACE_ENDPOINT']\n"
   ]
  },
  {
   "cell_type": "code",
   "execution_count": null,
   "metadata": {},
   "outputs": [],
   "source": []
  }
 ],
 "metadata": {
  "language_info": {
   "codemirror_mode": {
    "name": "ipython",
    "version": 3
   },
   "file_extension": ".py",
   "mimetype": "text/x-python",
   "name": "python",
   "nbconvert_exporter": "python",
   "pygments_lexer": "ipython3",
   "version": "3.7.6-final"
  },
  "orig_nbformat": 2,
  "kernelspec": {
   "name": "python3",
   "display_name": "Python 3"
  }
 },
 "nbformat": 4,
 "nbformat_minor": 2
}